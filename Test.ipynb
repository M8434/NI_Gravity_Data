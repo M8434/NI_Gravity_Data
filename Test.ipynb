{
 "cells": [
  {
   "cell_type": "code",
   "execution_count": 1,
   "id": "99d9ea70-5148-43d8-9b39-e6409f4fdc6b",
   "metadata": {},
   "outputs": [],
   "source": [
    "import pandas as pd\n",
    "import geopandas as gpd\n",
    "from shapely.geometry import Point\n",
    "import folium"
   ]
  },
  {
   "cell_type": "code",
   "execution_count": 2,
   "id": "66edf489-293e-4c54-a27f-4bdd3b684c7b",
   "metadata": {},
   "outputs": [],
   "source": [
    "df = pd.read_csv('OSNIAbsoluteGravity.csv') #Absolute Gravity Data\n",
    "AbsGravData = gpd.GeoDataFrame(df['Station Name'], #Keep only Station Name\n",
    "                            geometry=gpd.points_from_xy(df['Easting'], df['Northing']),crs='epsg:2157') #Source data is Irish Transverse Mercator"
   ]
  },
  {
   "cell_type": "code",
   "execution_count": 3,
   "id": "81b43116-d322-42b9-82c1-5e70c8a0e563",
   "metadata": {},
   "outputs": [
    {
     "data": {
      "text/html": [
       "<div>\n",
       "<style scoped>\n",
       "    .dataframe tbody tr th:only-of-type {\n",
       "        vertical-align: middle;\n",
       "    }\n",
       "\n",
       "    .dataframe tbody tr th {\n",
       "        vertical-align: top;\n",
       "    }\n",
       "\n",
       "    .dataframe thead th {\n",
       "        text-align: right;\n",
       "    }\n",
       "</style>\n",
       "<table border=\"1\" class=\"dataframe\">\n",
       "  <thead>\n",
       "    <tr style=\"text-align: right;\">\n",
       "      <th></th>\n",
       "      <th>Station Name</th>\n",
       "      <th>geometry</th>\n",
       "    </tr>\n",
       "  </thead>\n",
       "  <tbody>\n",
       "    <tr>\n",
       "      <th>0</th>\n",
       "      <td>Cushendall</td>\n",
       "      <td>POINT (724301.934 927608.755)</td>\n",
       "    </tr>\n",
       "    <tr>\n",
       "      <th>1</th>\n",
       "      <td>Bangor</td>\n",
       "      <td>POINT (750484.371 882233.523)</td>\n",
       "    </tr>\n",
       "    <tr>\n",
       "      <th>2</th>\n",
       "      <td>Belfast</td>\n",
       "      <td>POINT (733995.242 876707.615)</td>\n",
       "    </tr>\n",
       "    <tr>\n",
       "      <th>3</th>\n",
       "      <td>Belfast IGSN71</td>\n",
       "      <td>POINT (736473.409 876421.702)</td>\n",
       "    </tr>\n",
       "    <tr>\n",
       "      <th>4</th>\n",
       "      <td>Moneymore</td>\n",
       "      <td>POINT (685772.554 883608.007)</td>\n",
       "    </tr>\n",
       "  </tbody>\n",
       "</table>\n",
       "</div>"
      ],
      "text/plain": [
       "     Station Name                       geometry\n",
       "0      Cushendall  POINT (724301.934 927608.755)\n",
       "1          Bangor  POINT (750484.371 882233.523)\n",
       "2         Belfast  POINT (733995.242 876707.615)\n",
       "3  Belfast IGSN71  POINT (736473.409 876421.702)\n",
       "4       Moneymore  POINT (685772.554 883608.007)"
      ]
     },
     "execution_count": 3,
     "metadata": {},
     "output_type": "execute_result"
    }
   ],
   "source": [
    "AbsGravData.head()"
   ]
  },
  {
   "cell_type": "code",
   "execution_count": 4,
   "id": "1a487dad-47ef-4e92-9cef-a0a5af83cb38",
   "metadata": {},
   "outputs": [
    {
     "data": {
      "text/html": [
       "<div>\n",
       "<style scoped>\n",
       "    .dataframe tbody tr th:only-of-type {\n",
       "        vertical-align: middle;\n",
       "    }\n",
       "\n",
       "    .dataframe tbody tr th {\n",
       "        vertical-align: top;\n",
       "    }\n",
       "\n",
       "    .dataframe thead th {\n",
       "        text-align: right;\n",
       "    }\n",
       "</style>\n",
       "<table border=\"1\" class=\"dataframe\">\n",
       "  <thead>\n",
       "    <tr style=\"text-align: right;\">\n",
       "      <th></th>\n",
       "      <th>Station Name</th>\n",
       "      <th>geometry</th>\n",
       "    </tr>\n",
       "  </thead>\n",
       "  <tbody>\n",
       "    <tr>\n",
       "      <th>0</th>\n",
       "      <td>Cushendall</td>\n",
       "      <td>POINT (-6.05323 55.08034)</td>\n",
       "    </tr>\n",
       "    <tr>\n",
       "      <th>1</th>\n",
       "      <td>Bangor</td>\n",
       "      <td>POINT (-5.66718 54.66576)</td>\n",
       "    </tr>\n",
       "    <tr>\n",
       "      <th>2</th>\n",
       "      <td>Belfast</td>\n",
       "      <td>POINT (-5.92513 54.62080)</td>\n",
       "    </tr>\n",
       "    <tr>\n",
       "      <th>3</th>\n",
       "      <td>Belfast IGSN71</td>\n",
       "      <td>POINT (-5.88692 54.61757)</td>\n",
       "    </tr>\n",
       "    <tr>\n",
       "      <th>4</th>\n",
       "      <td>Moneymore</td>\n",
       "      <td>POINT (-6.66953 54.69327)</td>\n",
       "    </tr>\n",
       "    <tr>\n",
       "      <th>5</th>\n",
       "      <td>Armagh</td>\n",
       "      <td>POINT (-6.65080 54.35340)</td>\n",
       "    </tr>\n",
       "    <tr>\n",
       "      <th>6</th>\n",
       "      <td>Lisnarick</td>\n",
       "      <td>POINT (-7.71416 54.46825)</td>\n",
       "    </tr>\n",
       "    <tr>\n",
       "      <th>7</th>\n",
       "      <td>Kilcoo</td>\n",
       "      <td>POINT (-6.03095 54.23169)</td>\n",
       "    </tr>\n",
       "    <tr>\n",
       "      <th>8</th>\n",
       "      <td>Newtonstewart</td>\n",
       "      <td>POINT (-7.37436 54.71511)</td>\n",
       "    </tr>\n",
       "    <tr>\n",
       "      <th>9</th>\n",
       "      <td>Londonderry</td>\n",
       "      <td>POINT (-7.32834 55.00019)</td>\n",
       "    </tr>\n",
       "    <tr>\n",
       "      <th>10</th>\n",
       "      <td>Portrush</td>\n",
       "      <td>POINT (-6.65315 55.20074)</td>\n",
       "    </tr>\n",
       "  </tbody>\n",
       "</table>\n",
       "</div>"
      ],
      "text/plain": [
       "      Station Name                   geometry\n",
       "0       Cushendall  POINT (-6.05323 55.08034)\n",
       "1           Bangor  POINT (-5.66718 54.66576)\n",
       "2          Belfast  POINT (-5.92513 54.62080)\n",
       "3   Belfast IGSN71  POINT (-5.88692 54.61757)\n",
       "4        Moneymore  POINT (-6.66953 54.69327)\n",
       "5           Armagh  POINT (-6.65080 54.35340)\n",
       "6        Lisnarick  POINT (-7.71416 54.46825)\n",
       "7           Kilcoo  POINT (-6.03095 54.23169)\n",
       "8    Newtonstewart  POINT (-7.37436 54.71511)\n",
       "9      Londonderry  POINT (-7.32834 55.00019)\n",
       "10        Portrush  POINT (-6.65315 55.20074)"
      ]
     },
     "execution_count": 4,
     "metadata": {},
     "output_type": "execute_result"
    }
   ],
   "source": [
    "AbsGravData.to_crs (\"EPSG:4326\")"
   ]
  },
  {
   "cell_type": "code",
   "execution_count": 7,
   "id": "7360d8ce-f57a-4778-aab6-571905b65808",
   "metadata": {},
   "outputs": [],
   "source": [
    "m = AbsGravData.explore('Station Name', marker_type='marker', popup=True, legend=False,)"
   ]
  },
  {
   "cell_type": "code",
   "execution_count": 8,
   "id": "310d23ee-6a36-4788-b26a-f8090b6183b2",
   "metadata": {},
   "outputs": [],
   "source": [
    "Ab_buffer = AbsGravData.buffer(5)"
   ]
  },
  {
   "cell_type": "code",
   "execution_count": null,
   "id": "f86b8d52-69a2-4739-b0ed-a51982944083",
   "metadata": {},
   "outputs": [],
   "source": [
    "Ab_buffer.explore('Station Name', cmap='viridis',m=m)"
   ]
  },
  {
   "cell_type": "code",
   "execution_count": null,
   "id": "ca040ba7-d15b-44cb-94fe-57a2d3a107bd",
   "metadata": {},
   "outputs": [],
   "source": []
  }
 ],
 "metadata": {
  "kernelspec": {
   "display_name": "Python 3 (ipykernel)",
   "language": "python",
   "name": "python3"
  },
  "language_info": {
   "codemirror_mode": {
    "name": "ipython",
    "version": 3
   },
   "file_extension": ".py",
   "mimetype": "text/x-python",
   "name": "python",
   "nbconvert_exporter": "python",
   "pygments_lexer": "ipython3",
   "version": "3.12.3"
  }
 },
 "nbformat": 4,
 "nbformat_minor": 5
}
