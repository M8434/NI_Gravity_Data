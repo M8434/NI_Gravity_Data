{
 "cells": [
  {
   "cell_type": "code",
   "execution_count": null,
   "id": "a235d5bd-d1de-4229-9717-a71f24ea766c",
   "metadata": {},
   "outputs": [],
   "source": [
    "import pandas as pd\n",
    "import geopandas as gpd\n",
    "from shapely.geometry import Point\n",
    "import folium"
   ]
  },
  {
   "cell_type": "code",
   "execution_count": null,
   "id": "93e84c4d-43f1-4f0f-949e-fc8a863ad5af",
   "metadata": {},
   "outputs": [],
   "source": [
    "df = pd.read_csv('Ulst6Jan87.csv') #historic gravity data\n",
    "Hist = gpd.GeoDataFrame(df[['id', 'OBS (mgal)']], #Keep only the ID and the reading in milligals.\n",
    "                            geometry=gpd.points_from_xy(df['LONG'], df['LAT']),crs='epsg:4326') #OpenStreetMap"
   ]
  },
  {
   "cell_type": "code",
   "execution_count": null,
   "id": "05e8af1e-e5bf-4974-b074-13074ef01923",
   "metadata": {},
   "outputs": [],
   "source": [
    "Hist.head() #check this worked"
   ]
  },
  {
   "cell_type": "code",
   "execution_count": null,
   "id": "3d21a095-30a2-4b77-826f-c8598b9f0aac",
   "metadata": {},
   "outputs": [],
   "source": [
    "Hist.to_crs(\"EPSG:4326\")\n",
    "Hist.to_file('HistGravData.shp',crs='EPSG:4326') #specified crs as by default it was creating .shp with source CRS"
   ]
  },
  {
   "cell_type": "code",
   "execution_count": null,
   "id": "34f1455f-e116-4ef5-b468-110623e76d5b",
   "metadata": {},
   "outputs": [],
   "source": [
    "df = pd.read_csv('OSNIAbsoluteGravity.csv') #Absolute Gravity Data\n",
    "Absolute = gpd.GeoDataFrame(df[['Station Name','GNSS Observation Date']], #Keep only Station Name\n",
    "                            geometry=gpd.points_from_xy(df['LONG'], df['LAT']),crs='epsg:4326')\n",
    "Absolute.rename(columns={'Station Name': 'Station', 'GNSS Observation Date': 'ObDate'}, inplace=True) #Current column names too long for .shp"
   ]
  },
  {
   "cell_type": "code",
   "execution_count": null,
   "id": "03136d8a-87b6-49a2-9924-8ca2cbab20eb",
   "metadata": {},
   "outputs": [],
   "source": [
    "Absolute.head() #check this worked"
   ]
  },
  {
   "cell_type": "code",
   "execution_count": null,
   "id": "f6ed7b02-5204-43e1-bf24-29c1a408eaf9",
   "metadata": {},
   "outputs": [],
   "source": [
    "Absolute.to_crs('EPSG:29902')\n",
    "Absolute.to_file('AbsGravData.shp',crs='EPSG:29902')"
   ]
  },
  {
   "cell_type": "code",
   "execution_count": null,
   "id": "3f55ab8b-513e-444e-ae3a-20081a2f991c",
   "metadata": {},
   "outputs": [],
   "source": [
    "AbsGravData = gpd.read_file('AbsGravData.shp')\n",
    "ABbuffer = AbsGravData.buffer(0.1) #Figure represents 10km #Figure represents 10km. Need to buffer on .shp as CRS is projected"
   ]
  },
  {
   "cell_type": "code",
   "execution_count": null,
   "id": "6cb001bc-6f72-424f-804f-251cd468c77e",
   "metadata": {},
   "outputs": [],
   "source": [
    "ABbuffer.to_crs('EPSG:4326')"
   ]
  },
  {
   "cell_type": "code",
   "execution_count": null,
   "id": "eeea38af-4a6e-4c42-8254-5e184c94d8dc",
   "metadata": {},
   "outputs": [],
   "source": [
    "ABbuffer.head() #Check this worked"
   ]
  },
  {
   "cell_type": "code",
   "execution_count": null,
   "id": "11cd45a3-4410-46f0-9923-2ac47896eddb",
   "metadata": {},
   "outputs": [],
   "source": [
    "ABbuffer.to_file('AB_buffer.shp',crs='EPSG:4326') \n",
    "ABbuffer = gpd.read_file('AB_buffer.shp')"
   ]
  },
  {
   "cell_type": "code",
   "execution_count": null,
   "id": "6af498fc-07f9-4daa-94ea-47bde1b32722",
   "metadata": {},
   "outputs": [],
   "source": [
    "AB_buffer.head() #Check this worked"
   ]
  },
  {
   "cell_type": "code",
   "execution_count": null,
   "id": "c414d1e2-9302-436c-a8df-4cb2dace0e7c",
   "metadata": {},
   "outputs": [],
   "source": [
    "CombinedBuffer = ABbuffer.geometry.unary_union\n",
    "within_CombinedBuffer = Hist1[Hist1.geometry.within(CombinedBuffer)]"
   ]
  },
  {
   "cell_type": "code",
   "execution_count": null,
   "id": "edece4e3-7f6b-4560-b824-facf34d47831",
   "metadata": {},
   "outputs": [],
   "source": [
    "within_CombinedBuffer.head() #Check this worked"
   ]
  },
  {
   "cell_type": "code",
   "execution_count": 76,
   "id": "0cadaaf4-b898-4dcc-887b-03024d239ab9",
   "metadata": {},
   "outputs": [],
   "source": [
    "within_CombinedBuffer.to_file('HistGrav10km_within_AbsoluteGrav.shp',crs='EPSG:4326')"
   ]
  },
  {
   "cell_type": "code",
   "execution_count": null,
   "id": "13a6150f-fadd-497c-8cd6-836d1cb20464",
   "metadata": {},
   "outputs": [],
   "source": [
    "\n",
    "m = Absolute.explore('Station',marker_type='marker', popup=True, legend=False, tiles= \"cartodb positron\") #Using a simplified background map\n",
    "\n",
    "AB_buffer.explore(m=m, popup=False, fill_color = \"White\",)\n",
    "\n",
    "within_CombinedBuffer.explore(m=m, popup=True, legend=False,)\n",
    "\n",
    "m\n"
   ]
  }
 ],
 "metadata": {
  "kernelspec": {
   "display_name": "Python 3 (ipykernel)",
   "language": "python",
   "name": "python3"
  },
  "language_info": {
   "codemirror_mode": {
    "name": "ipython",
    "version": 3
   },
   "file_extension": ".py",
   "mimetype": "text/x-python",
   "name": "python",
   "nbconvert_exporter": "python",
   "pygments_lexer": "ipython3",
   "version": "3.12.3"
  }
 },
 "nbformat": 4,
 "nbformat_minor": 5
}
