{
 "cells": [
  {
   "cell_type": "code",
   "execution_count": null,
   "id": "4d17054c-aeb8-4f06-9f31-b02bd29bc44a",
   "metadata": {},
   "outputs": [],
   "source": [
    "import pandas as pd\n",
    "import geopandas as gpd\n",
    "from shapely.geometry import Point\n",
    "import folium"
   ]
  },
  {
   "cell_type": "code",
   "execution_count": null,
   "id": "87d614c6-4d06-496e-91ff-2f54e9145fda",
   "metadata": {},
   "outputs": [],
   "source": [
    "df = pd.read_csv('Ulst6Jan87.csv') #historic gravity data\n",
    "HistGravData = gpd.GeoDataFrame(df[['id', 'OBS (mgal)']], #Keep only the ID and the reading in milligals.\n",
    "                            geometry=gpd.points_from_xy(df['LONG'], df['LAT']),crs='epsg:4326') "
   ]
  },
  {
   "cell_type": "code",
   "execution_count": null,
   "id": "35f8f248-9a21-4143-8abc-b81e6889681e",
   "metadata": {},
   "outputs": [],
   "source": [
    "HistGravData.head() #sanity check"
   ]
  },
  {
   "cell_type": "code",
   "execution_count": null,
   "id": "2e38a917-5af0-4084-b54b-0ac82da98d28",
   "metadata": {},
   "outputs": [],
   "source": [
    "# m = HistGravData.explore('id',marker_type='marker',popup=True,legend=False)"
   ]
  },
  {
   "cell_type": "code",
   "execution_count": null,
   "id": "4f179f55-4907-4a6d-b15b-e15185c58baf",
   "metadata": {},
   "outputs": [],
   "source": [
    "df = pd.read_csv('OSNIAbsoluteGravity.csv') #Absolute Gravity Data\n",
    "AbsGravData = gpd.GeoDataFrame(df['Station Name'], #Keep only Station Name\n",
    "                            geometry=gpd.points_from_xy(df['Easting'], df['Northing']),crs='epsg:2157') #Source data is Irish Transverse Mercator"
   ]
  },
  {
   "cell_type": "code",
   "execution_count": null,
   "id": "3c5c4d6b-c027-45d1-9aa7-9ced6c7cbe2e",
   "metadata": {},
   "outputs": [],
   "source": [
    "AbsGravData.head()"
   ]
  },
  {
   "cell_type": "code",
   "execution_count": null,
   "id": "e1613d9b-7d42-44f5-b6e9-cd8ee09096d0",
   "metadata": {},
   "outputs": [],
   "source": [
    "AbsGravData.to_crs (\"EPSG:4326\")"
   ]
  },
  {
   "cell_type": "code",
   "execution_count": null,
   "id": "469b318e-5e9b-4267-92fe-61b3b4f5b440",
   "metadata": {},
   "outputs": [],
   "source": [
    "#AbsGravData.explore('Station Name',m=m, marker_type='marker', popup=True, legend=False,)\n",
    "m = AbsGravData.explore('Station Name',m=m, marker_type='marker', popup=True, legend=False,)"
   ]
  },
  {
   "cell_type": "code",
   "execution_count": null,
   "id": "d4ebfffd-4524-4ffb-8a27-4f7a2ea95544",
   "metadata": {},
   "outputs": [],
   "source": [
    "Ab_buffer = AbsGravData.buffer(5)"
   ]
  },
  {
   "cell_type": "code",
   "execution_count": null,
   "id": "a0a9e7db-b7bd-4752-abb4-083dbe2c81c4",
   "metadata": {},
   "outputs": [],
   "source": [
    "Ab_buffer.to_crs(\"EPSG:4326\")"
   ]
  },
  {
   "cell_type": "code",
   "execution_count": null,
   "id": "efbb3d73-0a2b-4efa-85d9-3844d290d73e",
   "metadata": {},
   "outputs": [],
   "source": [
    "Ab_buffer.explore(m=m)"
   ]
  },
  {
   "cell_type": "code",
   "execution_count": null,
   "id": "27b339ad-6212-453a-b26a-9c469bf38bfe",
   "metadata": {},
   "outputs": [],
   "source": []
  }
 ],
 "metadata": {
  "kernelspec": {
   "display_name": "Python 3 (ipykernel)",
   "language": "python",
   "name": "python3"
  },
  "language_info": {
   "codemirror_mode": {
    "name": "ipython",
    "version": 3
   },
   "file_extension": ".py",
   "mimetype": "text/x-python",
   "name": "python",
   "nbconvert_exporter": "python",
   "pygments_lexer": "ipython3",
   "version": "3.12.3"
  }
 },
 "nbformat": 4,
 "nbformat_minor": 5
}
