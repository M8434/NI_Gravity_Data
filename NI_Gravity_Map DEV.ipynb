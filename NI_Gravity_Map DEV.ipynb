{
 "cells": [
  {
   "cell_type": "markdown",
   "id": "47abb6e2-3c23-42df-9c40-d110a15266f3",
   "metadata": {},
   "source": [
    "# "
   ]
  },
  {
   "cell_type": "code",
   "execution_count": 1,
   "id": "4d17054c-aeb8-4f06-9f31-b02bd29bc44a",
   "metadata": {},
   "outputs": [],
   "source": [
    "import pandas as pd\n",
    "import geopandas as gpd\n",
    "import folium"
   ]
  },
  {
   "cell_type": "code",
   "execution_count": 2,
   "id": "14980e12-a788-4b1a-81e0-5c63e1cf3445",
   "metadata": {},
   "outputs": [],
   "source": [
    "df = pd.read_csv('Ulst6Jan87.csv')"
   ]
  },
  {
   "cell_type": "code",
   "execution_count": 3,
   "id": "87d614c6-4d06-496e-91ff-2f54e9145fda",
   "metadata": {},
   "outputs": [],
   "source": [
    "Historic_Gravity = gpd.GeoDataFrame(df[['id', 'OBS (mgal)']], # Only display the ID for each point along with the gravity value in Milligal\n",
    "                            geometry=gpd.points_from_xy(df['LONG'], df['LAT']), # set the geometry using points_from_xy\n",
    "                            crs='epsg:4326') # set CRS as WGS84 lat/lon"
   ]
  },
  {
   "cell_type": "code",
   "execution_count": 4,
   "id": "35f8f248-9a21-4143-8abc-b81e6889681e",
   "metadata": {},
   "outputs": [
    {
     "data": {
      "text/html": [
       "<div>\n",
       "<style scoped>\n",
       "    .dataframe tbody tr th:only-of-type {\n",
       "        vertical-align: middle;\n",
       "    }\n",
       "\n",
       "    .dataframe tbody tr th {\n",
       "        vertical-align: top;\n",
       "    }\n",
       "\n",
       "    .dataframe thead th {\n",
       "        text-align: right;\n",
       "    }\n",
       "</style>\n",
       "<table border=\"1\" class=\"dataframe\">\n",
       "  <thead>\n",
       "    <tr style=\"text-align: right;\">\n",
       "      <th></th>\n",
       "      <th>id</th>\n",
       "      <th>OBS (mgal)</th>\n",
       "      <th>geometry</th>\n",
       "    </tr>\n",
       "  </thead>\n",
       "  <tbody>\n",
       "    <tr>\n",
       "      <th>0</th>\n",
       "      <td>U1  1A02</td>\n",
       "      <td>981504.62</td>\n",
       "      <td>POINT (-6.20680 55.29600)</td>\n",
       "    </tr>\n",
       "    <tr>\n",
       "      <th>1</th>\n",
       "      <td>U1  1A03</td>\n",
       "      <td>981507.39</td>\n",
       "      <td>POINT (-6.23730 55.29550)</td>\n",
       "    </tr>\n",
       "    <tr>\n",
       "      <th>2</th>\n",
       "      <td>U1  1A04</td>\n",
       "      <td>981510.10</td>\n",
       "      <td>POINT (-6.25380 55.29970)</td>\n",
       "    </tr>\n",
       "    <tr>\n",
       "      <th>3</th>\n",
       "      <td>U1  1A05</td>\n",
       "      <td>981524.64</td>\n",
       "      <td>POINT (-6.26700 55.29270)</td>\n",
       "    </tr>\n",
       "    <tr>\n",
       "      <th>4</th>\n",
       "      <td>U1  1B02</td>\n",
       "      <td>981525.89</td>\n",
       "      <td>POINT (-6.18650 55.26220)</td>\n",
       "    </tr>\n",
       "  </tbody>\n",
       "</table>\n",
       "</div>"
      ],
      "text/plain": [
       "         id  OBS (mgal)                   geometry\n",
       "0  U1  1A02   981504.62  POINT (-6.20680 55.29600)\n",
       "1  U1  1A03   981507.39  POINT (-6.23730 55.29550)\n",
       "2  U1  1A04   981510.10  POINT (-6.25380 55.29970)\n",
       "3  U1  1A05   981524.64  POINT (-6.26700 55.29270)\n",
       "4  U1  1B02   981525.89  POINT (-6.18650 55.26220)"
      ]
     },
     "execution_count": 4,
     "metadata": {},
     "output_type": "execute_result"
    }
   ],
   "source": [
    "Historic_Gravity.head() #sanity check"
   ]
  },
  {
   "cell_type": "code",
   "execution_count": 5,
   "id": "b4c3f052-e2a5-44f3-912e-a5ca49caeb94",
   "metadata": {},
   "outputs": [],
   "source": [
    "df = pd.read_csv('OSNIAbsoluteGravity.csv')"
   ]
  },
  {
   "cell_type": "code",
   "execution_count": 7,
   "id": "ac043a6e-00ba-42c3-a2bd-8c7c99d30cf1",
   "metadata": {},
   "outputs": [],
   "source": [
    "AbsoluteGravity = gpd.GeoDataFrame(df[['Station Name']], \n",
    "                            geometry=gpd.points_from_xy(df['Easting'], df['Northing']), # set the geometry using points_from_xy\n",
    "                            crs='epsg:29903') # set CRS as WGS84 lat/lon\n",
    "\n",
    "\n",
    "\n",
    "                            \n",
    "\n"
   ]
  },
  {
   "cell_type": "code",
   "execution_count": 8,
   "id": "8545aa73-847d-4f33-82b8-74dc8c45e69a",
   "metadata": {},
   "outputs": [
    {
     "data": {
      "text/html": [
       "<div>\n",
       "<style scoped>\n",
       "    .dataframe tbody tr th:only-of-type {\n",
       "        vertical-align: middle;\n",
       "    }\n",
       "\n",
       "    .dataframe tbody tr th {\n",
       "        vertical-align: top;\n",
       "    }\n",
       "\n",
       "    .dataframe thead th {\n",
       "        text-align: right;\n",
       "    }\n",
       "</style>\n",
       "<table border=\"1\" class=\"dataframe\">\n",
       "  <thead>\n",
       "    <tr style=\"text-align: right;\">\n",
       "      <th></th>\n",
       "      <th>Station Name</th>\n",
       "      <th>geometry</th>\n",
       "    </tr>\n",
       "  </thead>\n",
       "  <tbody>\n",
       "    <tr>\n",
       "      <th>0</th>\n",
       "      <td>Cushendall</td>\n",
       "      <td>POINT (724301.934 927608.755)</td>\n",
       "    </tr>\n",
       "    <tr>\n",
       "      <th>1</th>\n",
       "      <td>Bangor</td>\n",
       "      <td>POINT (750484.371 882233.523)</td>\n",
       "    </tr>\n",
       "    <tr>\n",
       "      <th>2</th>\n",
       "      <td>Belfast</td>\n",
       "      <td>POINT (733995.242 876707.615)</td>\n",
       "    </tr>\n",
       "    <tr>\n",
       "      <th>3</th>\n",
       "      <td>Belfast IGSN71</td>\n",
       "      <td>POINT (736473.409 876421.702)</td>\n",
       "    </tr>\n",
       "    <tr>\n",
       "      <th>4</th>\n",
       "      <td>Moneymore</td>\n",
       "      <td>POINT (685772.554 883608.007)</td>\n",
       "    </tr>\n",
       "  </tbody>\n",
       "</table>\n",
       "</div>"
      ],
      "text/plain": [
       "     Station Name                       geometry\n",
       "0      Cushendall  POINT (724301.934 927608.755)\n",
       "1          Bangor  POINT (750484.371 882233.523)\n",
       "2         Belfast  POINT (733995.242 876707.615)\n",
       "3  Belfast IGSN71  POINT (736473.409 876421.702)\n",
       "4       Moneymore  POINT (685772.554 883608.007)"
      ]
     },
     "execution_count": 8,
     "metadata": {},
     "output_type": "execute_result"
    }
   ],
   "source": [
    "AbsoluteGravity.head #Sanity check - note CRS is EPSG 29903"
   ]
  },
  {
   "cell_type": "code",
   "execution_count": 10,
   "id": "b363bf16-a903-4a12-8e5e-14de3d675f67",
   "metadata": {},
   "outputs": [],
   "source": [
    "gdf = gpd.GeoDataFrame(df)"
   ]
  },
  {
   "cell_type": "code",
   "execution_count": 13,
   "id": "41a8e451-07e1-4cf1-b155-3f8126a602e1",
   "metadata": {},
   "outputs": [
    {
     "ename": "NameError",
     "evalue": "name 'GeoDataFrame' is not defined",
     "output_type": "error",
     "traceback": [
      "\u001b[1;31m---------------------------------------------------------------------------\u001b[0m",
      "\u001b[1;31mNameError\u001b[0m                                 Traceback (most recent call last)",
      "Cell \u001b[1;32mIn[13], line 1\u001b[0m\n\u001b[1;32m----> 1\u001b[0m \u001b[43mGeoDataFrame\u001b[49m\u001b[38;5;241m.\u001b[39mset_geometry\n",
      "\u001b[1;31mNameError\u001b[0m: name 'GeoDataFrame' is not defined"
     ]
    }
   ],
   "source": [
    "GeoDataFrame.set_geometry"
   ]
  },
  {
   "cell_type": "code",
   "execution_count": null,
   "id": "4c4c14fc-4396-4c7b-9599-b26f633583d4",
   "metadata": {},
   "outputs": [],
   "source": [
    "df = pd.read_csv('data_files/GPSPoints.txt')\n",
    "df.head()\n",
    "df['geometry'] = list(zip(df['lon'], df['lat'])) # zip is an iterator, so we use list to create \n",
    "                                                 # something that pandas can use.\n",
    "df['geometry'] = df['geometry'].apply(Point) # using the 'apply' method of the dataframe, \n",
    "                                             # turn the coordinates column\n",
    "                                             # into points (instead of a tuple of lat, lon coordinates).\n",
    "                                             # NB: Point takes (x, y) coordinates\n",
    "gdf = gpd.GeoDataFrame(df)\n",
    "gdf = gdf.set_crs(\"EPSG:4326\")\n",
    "gdf.to_file('lake_points.shp')"
   ]
  }
 ],
 "metadata": {
  "kernelspec": {
   "display_name": "Python 3 (ipykernel)",
   "language": "python",
   "name": "python3"
  },
  "language_info": {
   "codemirror_mode": {
    "name": "ipython",
    "version": 3
   },
   "file_extension": ".py",
   "mimetype": "text/x-python",
   "name": "python",
   "nbconvert_exporter": "python",
   "pygments_lexer": "ipython3",
   "version": "3.12.3"
  }
 },
 "nbformat": 4,
 "nbformat_minor": 5
}
