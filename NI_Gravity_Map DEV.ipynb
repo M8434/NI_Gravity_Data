{
 "cells": [
  {
   "cell_type": "code",
   "execution_count": 16,
   "id": "4d17054c-aeb8-4f06-9f31-b02bd29bc44a",
   "metadata": {},
   "outputs": [],
   "source": [
    "import pandas as pd\n",
    "import geopandas as gpd\n",
    "from shapely.geometry import Point\n",
    "import folium"
   ]
  },
  {
   "cell_type": "code",
   "execution_count": null,
   "id": "14980e12-a788-4b1a-81e0-5c63e1cf3445",
   "metadata": {},
   "outputs": [],
   "source": [
    "#df = pd.read_csv('Ulst6Jan87.csv')"
   ]
  },
  {
   "cell_type": "code",
   "execution_count": null,
   "id": "87d614c6-4d06-496e-91ff-2f54e9145fda",
   "metadata": {},
   "outputs": [],
   "source": [
    "#Historic_Gravity = gpd.GeoDataFrame(df[['id', 'OBS (mgal)']], # Only display the ID for each point along with the gravity value in Milligal\n",
    "                            #geometry=gpd.points_from_xy(df['LONG'], df['LAT']), # set the geometry using points_from_xy\n",
    "                            #crs='epsg:4326') # set CRS as WGS84 lat/lon\n",
    "\n",
    "df = pd.read_csv('Ulst6Jan87.csv')\n",
    "df.head()\n",
    "df['geometry'] = list(zip(df['LONG'], df['LAT'])) \n",
    "df['geometry'] = df['geometry'].apply(Point) \n",
    "gdf = gpd.GeoDataFrame(df)\n",
    "gdf = gdf.set_crs(\"EPSG:4326\") #The source data geometry is EPSG 2157 (Irish Transverse Mercator)\n",
    "#gdf.to_file('lake_points.shp') #As with the first dataset, I wish to create a shapefile"
   ]
  },
  {
   "cell_type": "code",
   "execution_count": null,
   "id": "35f8f248-9a21-4143-8abc-b81e6889681e",
   "metadata": {},
   "outputs": [],
   "source": [
    "Historic_Gravity.head() #sanity check"
   ]
  },
  {
   "cell_type": "code",
   "execution_count": null,
   "id": "68e9c175-1a2f-40d7-ab57-3d4d5058d2fb",
   "metadata": {},
   "outputs": [],
   "source": [
    "gdf.crs"
   ]
  },
  {
   "cell_type": "code",
   "execution_count": null,
   "id": "8545aa73-847d-4f33-82b8-74dc8c45e69a",
   "metadata": {},
   "outputs": [],
   "source": [
    "AbsoluteGravity.head #Sanity check - note CRS is EPSG 29903"
   ]
  },
  {
   "cell_type": "code",
   "execution_count": null,
   "id": "b363bf16-a903-4a12-8e5e-14de3d675f67",
   "metadata": {},
   "outputs": [],
   "source": [
    "gdf = gpd.GeoDataFrame(df)"
   ]
  },
  {
   "cell_type": "code",
   "execution_count": 24,
   "id": "c0b1dbc1-17fd-4e81-b9b3-ff2da9151ea7",
   "metadata": {},
   "outputs": [],
   "source": [
    "df = pd.read_csv('OSNIAbsoluteGravity.csv')"
   ]
  },
  {
   "cell_type": "code",
   "execution_count": 25,
   "id": "3c5c4d6b-c027-45d1-9aa7-9ced6c7cbe2e",
   "metadata": {},
   "outputs": [
    {
     "data": {
      "text/html": [
       "<div>\n",
       "<style scoped>\n",
       "    .dataframe tbody tr th:only-of-type {\n",
       "        vertical-align: middle;\n",
       "    }\n",
       "\n",
       "    .dataframe tbody tr th {\n",
       "        vertical-align: top;\n",
       "    }\n",
       "\n",
       "    .dataframe thead th {\n",
       "        text-align: right;\n",
       "    }\n",
       "</style>\n",
       "<table border=\"1\" class=\"dataframe\">\n",
       "  <thead>\n",
       "    <tr style=\"text-align: right;\">\n",
       "      <th></th>\n",
       "      <th>Unnamed: 0</th>\n",
       "      <th>Station Name</th>\n",
       "      <th>GNSS Observation Date</th>\n",
       "      <th>Easting</th>\n",
       "      <th>Northing</th>\n",
       "      <th>Elevation</th>\n",
       "      <th>Easting.1</th>\n",
       "      <th>Northing.1</th>\n",
       "      <th>Unnamed: 8</th>\n",
       "      <th>latitude</th>\n",
       "      <th>longitude</th>\n",
       "      <th>Altitude</th>\n",
       "    </tr>\n",
       "  </thead>\n",
       "  <tbody>\n",
       "    <tr>\n",
       "      <th>0</th>\n",
       "      <td>1</td>\n",
       "      <td>Cushendall</td>\n",
       "      <td>27/02/2020</td>\n",
       "      <td>724301.9337</td>\n",
       "      <td>927608.7551</td>\n",
       "      <td>1.100000</td>\n",
       "      <td>324377</td>\n",
       "      <td>427624</td>\n",
       "      <td>NaN</td>\n",
       "      <td>55-4-49.235970N</td>\n",
       "      <td>6-3-11.641755W</td>\n",
       "      <td>57.076594</td>\n",
       "    </tr>\n",
       "    <tr>\n",
       "      <th>1</th>\n",
       "      <td>2</td>\n",
       "      <td>Bangor</td>\n",
       "      <td>09/03/2020</td>\n",
       "      <td>750484.3709</td>\n",
       "      <td>882233.5231</td>\n",
       "      <td>4.671654</td>\n",
       "      <td>350564</td>\n",
       "      <td>382238</td>\n",
       "      <td>NaN</td>\n",
       "      <td>54-39-56.749041N</td>\n",
       "      <td>5-40-1.846710W</td>\n",
       "      <td>60.425980</td>\n",
       "    </tr>\n",
       "    <tr>\n",
       "      <th>2</th>\n",
       "      <td>3</td>\n",
       "      <td>Belfast</td>\n",
       "      <td>24/08/2022</td>\n",
       "      <td>733995.2420</td>\n",
       "      <td>876707.6150</td>\n",
       "      <td>15.452000</td>\n",
       "      <td>334072</td>\n",
       "      <td>376711</td>\n",
       "      <td>NaN</td>\n",
       "      <td>54-37-14.868064N</td>\n",
       "      <td>5-55-30.456762W</td>\n",
       "      <td>71.575989</td>\n",
       "    </tr>\n",
       "    <tr>\n",
       "      <th>3</th>\n",
       "      <td>3</td>\n",
       "      <td>Belfast IGSN71</td>\n",
       "      <td>24/08/2022</td>\n",
       "      <td>736473.4086</td>\n",
       "      <td>876421.7018</td>\n",
       "      <td>1.760000</td>\n",
       "      <td>336551</td>\n",
       "      <td>376426</td>\n",
       "      <td>NaN</td>\n",
       "      <td>54-37-3.238087N</td>\n",
       "      <td>5-53-12.894233W</td>\n",
       "      <td>57.839865</td>\n",
       "    </tr>\n",
       "    <tr>\n",
       "      <th>4</th>\n",
       "      <td>4</td>\n",
       "      <td>Moneymore</td>\n",
       "      <td>11/03/2020</td>\n",
       "      <td>685772.5538</td>\n",
       "      <td>883608.0075</td>\n",
       "      <td>53.296145</td>\n",
       "      <td>285839</td>\n",
       "      <td>383613</td>\n",
       "      <td>NaN</td>\n",
       "      <td>54-41-35.775369N</td>\n",
       "      <td>6-40-10.307837W</td>\n",
       "      <td>110.195640</td>\n",
       "    </tr>\n",
       "  </tbody>\n",
       "</table>\n",
       "</div>"
      ],
      "text/plain": [
       "   Unnamed: 0    Station Name GNSS Observation Date      Easting     Northing  \\\n",
       "0           1      Cushendall            27/02/2020  724301.9337  927608.7551   \n",
       "1           2          Bangor            09/03/2020  750484.3709  882233.5231   \n",
       "2           3         Belfast            24/08/2022  733995.2420  876707.6150   \n",
       "3           3  Belfast IGSN71            24/08/2022  736473.4086  876421.7018   \n",
       "4           4       Moneymore            11/03/2020  685772.5538  883608.0075   \n",
       "\n",
       "   Elevation  Easting.1  Northing.1  Unnamed: 8          latitude  \\\n",
       "0   1.100000     324377      427624         NaN   55-4-49.235970N   \n",
       "1   4.671654     350564      382238         NaN  54-39-56.749041N   \n",
       "2  15.452000     334072      376711         NaN  54-37-14.868064N   \n",
       "3   1.760000     336551      376426         NaN   54-37-3.238087N   \n",
       "4  53.296145     285839      383613         NaN  54-41-35.775369N   \n",
       "\n",
       "         longitude    Altitude  \n",
       "0   6-3-11.641755W   57.076594  \n",
       "1   5-40-1.846710W   60.425980  \n",
       "2  5-55-30.456762W   71.575989  \n",
       "3  5-53-12.894233W   57.839865  \n",
       "4  6-40-10.307837W  110.195640  "
      ]
     },
     "execution_count": 25,
     "metadata": {},
     "output_type": "execute_result"
    }
   ],
   "source": [
    "df.head()"
   ]
  },
  {
   "cell_type": "code",
   "execution_count": 26,
   "id": "14386f92-da5f-4e2a-9927-54b790472779",
   "metadata": {},
   "outputs": [],
   "source": [
    "del df['Easting.1'], df['Northing.1'], df['Unnamed: 8'], df['latitude'], df ['longitude'] #These attributions are confusing"
   ]
  },
  {
   "cell_type": "code",
   "execution_count": 27,
   "id": "7c9df72a-181f-4252-9517-c6ae12693628",
   "metadata": {},
   "outputs": [
    {
     "data": {
      "text/html": [
       "<div>\n",
       "<style scoped>\n",
       "    .dataframe tbody tr th:only-of-type {\n",
       "        vertical-align: middle;\n",
       "    }\n",
       "\n",
       "    .dataframe tbody tr th {\n",
       "        vertical-align: top;\n",
       "    }\n",
       "\n",
       "    .dataframe thead th {\n",
       "        text-align: right;\n",
       "    }\n",
       "</style>\n",
       "<table border=\"1\" class=\"dataframe\">\n",
       "  <thead>\n",
       "    <tr style=\"text-align: right;\">\n",
       "      <th></th>\n",
       "      <th>Unnamed: 0</th>\n",
       "      <th>Station Name</th>\n",
       "      <th>GNSS Observation Date</th>\n",
       "      <th>Easting</th>\n",
       "      <th>Northing</th>\n",
       "      <th>Elevation</th>\n",
       "      <th>Altitude</th>\n",
       "    </tr>\n",
       "  </thead>\n",
       "  <tbody>\n",
       "    <tr>\n",
       "      <th>0</th>\n",
       "      <td>1</td>\n",
       "      <td>Cushendall</td>\n",
       "      <td>27/02/2020</td>\n",
       "      <td>724301.9337</td>\n",
       "      <td>927608.7551</td>\n",
       "      <td>1.100000</td>\n",
       "      <td>57.076594</td>\n",
       "    </tr>\n",
       "    <tr>\n",
       "      <th>1</th>\n",
       "      <td>2</td>\n",
       "      <td>Bangor</td>\n",
       "      <td>09/03/2020</td>\n",
       "      <td>750484.3709</td>\n",
       "      <td>882233.5231</td>\n",
       "      <td>4.671654</td>\n",
       "      <td>60.425980</td>\n",
       "    </tr>\n",
       "    <tr>\n",
       "      <th>2</th>\n",
       "      <td>3</td>\n",
       "      <td>Belfast</td>\n",
       "      <td>24/08/2022</td>\n",
       "      <td>733995.2420</td>\n",
       "      <td>876707.6150</td>\n",
       "      <td>15.452000</td>\n",
       "      <td>71.575989</td>\n",
       "    </tr>\n",
       "    <tr>\n",
       "      <th>3</th>\n",
       "      <td>3</td>\n",
       "      <td>Belfast IGSN71</td>\n",
       "      <td>24/08/2022</td>\n",
       "      <td>736473.4086</td>\n",
       "      <td>876421.7018</td>\n",
       "      <td>1.760000</td>\n",
       "      <td>57.839865</td>\n",
       "    </tr>\n",
       "    <tr>\n",
       "      <th>4</th>\n",
       "      <td>4</td>\n",
       "      <td>Moneymore</td>\n",
       "      <td>11/03/2020</td>\n",
       "      <td>685772.5538</td>\n",
       "      <td>883608.0075</td>\n",
       "      <td>53.296145</td>\n",
       "      <td>110.195640</td>\n",
       "    </tr>\n",
       "  </tbody>\n",
       "</table>\n",
       "</div>"
      ],
      "text/plain": [
       "   Unnamed: 0    Station Name GNSS Observation Date      Easting     Northing  \\\n",
       "0           1      Cushendall            27/02/2020  724301.9337  927608.7551   \n",
       "1           2          Bangor            09/03/2020  750484.3709  882233.5231   \n",
       "2           3         Belfast            24/08/2022  733995.2420  876707.6150   \n",
       "3           3  Belfast IGSN71            24/08/2022  736473.4086  876421.7018   \n",
       "4           4       Moneymore            11/03/2020  685772.5538  883608.0075   \n",
       "\n",
       "   Elevation    Altitude  \n",
       "0   1.100000   57.076594  \n",
       "1   4.671654   60.425980  \n",
       "2  15.452000   71.575989  \n",
       "3   1.760000   57.839865  \n",
       "4  53.296145  110.195640  "
      ]
     },
     "execution_count": 27,
     "metadata": {},
     "output_type": "execute_result"
    }
   ],
   "source": [
    "df.head() yet another sanity check"
   ]
  },
  {
   "cell_type": "code",
   "execution_count": 36,
   "id": "156b82f8-fe17-4c9a-87b5-8c9b1cbfd67d",
   "metadata": {},
   "outputs": [],
   "source": [
    "df['geometry'] = list(zip(df['Easting'], df['Northing'])) \n",
    "df['geometry'] = df['geometry'].apply(Point) \n",
    "gdf = gpd.GeoDataFrame(df)\n",
    "gdf = gdf.set_crs(\"EPSG:2157\") #This was a later addition, I was slow to realise "
   ]
  },
  {
   "cell_type": "code",
   "execution_count": 37,
   "id": "fff7e135-18e7-4b91-a120-e2da3e3b4ecd",
   "metadata": {},
   "outputs": [
    {
     "data": {
      "text/plain": [
       "<Projected CRS: EPSG:2157>\n",
       "Name: IRENET95 / Irish Transverse Mercator\n",
       "Axis Info [cartesian]:\n",
       "- E[east]: Easting (metre)\n",
       "- N[north]: Northing (metre)\n",
       "Area of Use:\n",
       "- name: Ireland - onshore. United Kingdom (UK) - Northern Ireland (Ulster) - onshore.\n",
       "- bounds: (-10.56, 51.39, -5.34, 55.43)\n",
       "Coordinate Operation:\n",
       "- name: Irish Transverse Mercator\n",
       "- method: Transverse Mercator\n",
       "Datum: IRENET95\n",
       "- Ellipsoid: GRS 1980\n",
       "- Prime Meridian: Greenwich"
      ]
     },
     "execution_count": 37,
     "metadata": {},
     "output_type": "execute_result"
    }
   ],
   "source": [
    "gdf.crs"
   ]
  },
  {
   "cell_type": "code",
   "execution_count": 38,
   "id": "93dfa9aa-c571-4db3-9142-e3f0469b7914",
   "metadata": {},
   "outputs": [],
   "source": [
    "gdf = gdf.to_crs(\"EPSG:4326\") #The source data geometry is EPSG 2157 (Irish Transverse Mercator)\n",
    "#gdf.to_file('lake_points.shp') #As with the first dataset, I wish to create a shapefile"
   ]
  },
  {
   "cell_type": "code",
   "execution_count": 39,
   "id": "1961ec23-92ae-46a6-b367-8af269d64332",
   "metadata": {},
   "outputs": [
    {
     "data": {
      "text/plain": [
       "<Geographic 2D CRS: EPSG:4326>\n",
       "Name: WGS 84\n",
       "Axis Info [ellipsoidal]:\n",
       "- Lat[north]: Geodetic latitude (degree)\n",
       "- Lon[east]: Geodetic longitude (degree)\n",
       "Area of Use:\n",
       "- name: World.\n",
       "- bounds: (-180.0, -90.0, 180.0, 90.0)\n",
       "Datum: World Geodetic System 1984 ensemble\n",
       "- Ellipsoid: WGS 84\n",
       "- Prime Meridian: Greenwich"
      ]
     },
     "execution_count": 39,
     "metadata": {},
     "output_type": "execute_result"
    }
   ],
   "source": [
    "gdf.crs # Sanity check after changing CRS"
   ]
  },
  {
   "cell_type": "code",
   "execution_count": 40,
   "id": "d24782ec-0d38-4d36-96e6-318e6fc21ef3",
   "metadata": {},
   "outputs": [
    {
     "data": {
      "text/html": [
       "<div>\n",
       "<style scoped>\n",
       "    .dataframe tbody tr th:only-of-type {\n",
       "        vertical-align: middle;\n",
       "    }\n",
       "\n",
       "    .dataframe tbody tr th {\n",
       "        vertical-align: top;\n",
       "    }\n",
       "\n",
       "    .dataframe thead th {\n",
       "        text-align: right;\n",
       "    }\n",
       "</style>\n",
       "<table border=\"1\" class=\"dataframe\">\n",
       "  <thead>\n",
       "    <tr style=\"text-align: right;\">\n",
       "      <th></th>\n",
       "      <th>Unnamed: 0</th>\n",
       "      <th>Station Name</th>\n",
       "      <th>GNSS Observation Date</th>\n",
       "      <th>Easting</th>\n",
       "      <th>Northing</th>\n",
       "      <th>Elevation</th>\n",
       "      <th>Altitude</th>\n",
       "      <th>geometry</th>\n",
       "    </tr>\n",
       "  </thead>\n",
       "  <tbody>\n",
       "    <tr>\n",
       "      <th>0</th>\n",
       "      <td>1</td>\n",
       "      <td>Cushendall</td>\n",
       "      <td>27/02/2020</td>\n",
       "      <td>724301.9337</td>\n",
       "      <td>927608.7551</td>\n",
       "      <td>1.100000</td>\n",
       "      <td>57.076594</td>\n",
       "      <td>POINT (-6.05323 55.08034)</td>\n",
       "    </tr>\n",
       "    <tr>\n",
       "      <th>1</th>\n",
       "      <td>2</td>\n",
       "      <td>Bangor</td>\n",
       "      <td>09/03/2020</td>\n",
       "      <td>750484.3709</td>\n",
       "      <td>882233.5231</td>\n",
       "      <td>4.671654</td>\n",
       "      <td>60.425980</td>\n",
       "      <td>POINT (-5.66718 54.66576)</td>\n",
       "    </tr>\n",
       "    <tr>\n",
       "      <th>2</th>\n",
       "      <td>3</td>\n",
       "      <td>Belfast</td>\n",
       "      <td>24/08/2022</td>\n",
       "      <td>733995.2420</td>\n",
       "      <td>876707.6150</td>\n",
       "      <td>15.452000</td>\n",
       "      <td>71.575989</td>\n",
       "      <td>POINT (-5.92513 54.62080)</td>\n",
       "    </tr>\n",
       "    <tr>\n",
       "      <th>3</th>\n",
       "      <td>3</td>\n",
       "      <td>Belfast IGSN71</td>\n",
       "      <td>24/08/2022</td>\n",
       "      <td>736473.4086</td>\n",
       "      <td>876421.7018</td>\n",
       "      <td>1.760000</td>\n",
       "      <td>57.839865</td>\n",
       "      <td>POINT (-5.88692 54.61757)</td>\n",
       "    </tr>\n",
       "    <tr>\n",
       "      <th>4</th>\n",
       "      <td>4</td>\n",
       "      <td>Moneymore</td>\n",
       "      <td>11/03/2020</td>\n",
       "      <td>685772.5538</td>\n",
       "      <td>883608.0075</td>\n",
       "      <td>53.296145</td>\n",
       "      <td>110.195640</td>\n",
       "      <td>POINT (-6.66953 54.69327)</td>\n",
       "    </tr>\n",
       "  </tbody>\n",
       "</table>\n",
       "</div>"
      ],
      "text/plain": [
       "   Unnamed: 0    Station Name GNSS Observation Date      Easting     Northing  \\\n",
       "0           1      Cushendall            27/02/2020  724301.9337  927608.7551   \n",
       "1           2          Bangor            09/03/2020  750484.3709  882233.5231   \n",
       "2           3         Belfast            24/08/2022  733995.2420  876707.6150   \n",
       "3           3  Belfast IGSN71            24/08/2022  736473.4086  876421.7018   \n",
       "4           4       Moneymore            11/03/2020  685772.5538  883608.0075   \n",
       "\n",
       "   Elevation    Altitude                   geometry  \n",
       "0   1.100000   57.076594  POINT (-6.05323 55.08034)  \n",
       "1   4.671654   60.425980  POINT (-5.66718 54.66576)  \n",
       "2  15.452000   71.575989  POINT (-5.92513 54.62080)  \n",
       "3   1.760000   57.839865  POINT (-5.88692 54.61757)  \n",
       "4  53.296145  110.195640  POINT (-6.66953 54.69327)  "
      ]
     },
     "execution_count": 40,
     "metadata": {},
     "output_type": "execute_result"
    }
   ],
   "source": [
    "gdf.head()"
   ]
  },
  {
   "cell_type": "code",
   "execution_count": null,
   "id": "3c0b325c-cbfb-4aba-8a9f-9c0bea6a8e55",
   "metadata": {},
   "outputs": [],
   "source": []
  }
 ],
 "metadata": {
  "kernelspec": {
   "display_name": "Python 3 (ipykernel)",
   "language": "python",
   "name": "python3"
  },
  "language_info": {
   "codemirror_mode": {
    "name": "ipython",
    "version": 3
   },
   "file_extension": ".py",
   "mimetype": "text/x-python",
   "name": "python",
   "nbconvert_exporter": "python",
   "pygments_lexer": "ipython3",
   "version": "3.12.3"
  }
 },
 "nbformat": 4,
 "nbformat_minor": 5
}
