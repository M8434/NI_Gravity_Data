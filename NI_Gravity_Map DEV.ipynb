{
 "cells": [
  {
   "cell_type": "code",
   "execution_count": null,
   "id": "4d17054c-aeb8-4f06-9f31-b02bd29bc44a",
   "metadata": {},
   "outputs": [],
   "source": [
    "import pandas as pd\n",
    "import geopandas as gpd\n",
    "from shapely.geometry import Point\n",
    "import folium"
   ]
  },
  {
   "cell_type": "code",
   "execution_count": null,
   "id": "87d614c6-4d06-496e-91ff-2f54e9145fda",
   "metadata": {},
   "outputs": [],
   "source": [
    "df = pd.read_csv('Ulst6Jan87.csv') #historic gravity data\n",
    "HistGravData = gpd.GeoDataFrame(df[['id', 'OBS (mgal)']], #Keep only the ID and the reading in milligals.\n",
    "                            geometry=gpd.points_from_xy(df['LONG'], df['LAT']),crs='epsg:4326') "
   ]
  },
  {
   "cell_type": "code",
   "execution_count": null,
   "id": "35f8f248-9a21-4143-8abc-b81e6889681e",
   "metadata": {},
   "outputs": [],
   "source": [
    "HistGravData.head() #sanity check"
   ]
  },
  {
   "cell_type": "code",
   "execution_count": null,
   "id": "2cc59a2c-38f7-48f0-a86e-bb7ad7425268",
   "metadata": {},
   "outputs": [],
   "source": [
    "m = gdf.explore('Station Name', cmap='viridis')\n",
    "airports.explore('name',m=m, # add the markers to the same map we just created\n",
    "                 marker_type='marker', # use a marker for the points, instead of a circle \n",
    "                 popup=True, # show the information as a popup when we click on the marker\n",
    "                 legend=False, # don't show a separate legend for the point layer\n",
    "                )"
   ]
  },
  {
   "cell_type": "code",
   "execution_count": null,
   "id": "4f179f55-4907-4a6d-b15b-e15185c58baf",
   "metadata": {},
   "outputs": [],
   "source": [
    "df = pd.read_csv('OSNIAbsoluteGravity.csv') #Absolute Gravity Data\n",
    "AbsGravData = gpd.GeoDataFrame(df['Station Name'], #Keep only Station Name\n",
    "                            geometry=gpd.points_from_xy(df['Easting'], df['Northing']),crs='epsg:2157') #Source data is Irish Transverse Mercator"
   ]
  },
  {
   "cell_type": "code",
   "execution_count": null,
   "id": "3c5c4d6b-c027-45d1-9aa7-9ced6c7cbe2e",
   "metadata": {},
   "outputs": [],
   "source": [
    "AbsGravData.head()"
   ]
  },
  {
   "cell_type": "code",
   "execution_count": null,
   "id": "14386f92-da5f-4e2a-9927-54b790472779",
   "metadata": {},
   "outputs": [],
   "source": [
    "AbsGravData.crs  #Checking current CRS"
   ]
  },
  {
   "cell_type": "code",
   "execution_count": null,
   "id": "7c9df72a-181f-4252-9517-c6ae12693628",
   "metadata": {},
   "outputs": [],
   "source": [
    "AbsGravData = gdf.to_crs(\"EPSG:4326\") #The source data geometry is EPSG 2157 (Irish Transverse Mercator)"
   ]
  },
  {
   "cell_type": "code",
   "execution_count": null,
   "id": "156b82f8-fe17-4c9a-87b5-8c9b1cbfd67d",
   "metadata": {},
   "outputs": [],
   "source": [
    "AbsGravData.crs # Sanity check after changing CRS"
   ]
  },
  {
   "cell_type": "code",
   "execution_count": null,
   "id": "93dfa9aa-c571-4db3-9142-e3f0469b7914",
   "metadata": {},
   "outputs": [],
   "source": [
    "#gdf.to_file('AbsoluteGravityPoints.shp') #As with the first dataset, I wish to create a shapefile"
   ]
  }
 ],
 "metadata": {
  "kernelspec": {
   "display_name": "Python 3 (ipykernel)",
   "language": "python",
   "name": "python3"
  },
  "language_info": {
   "codemirror_mode": {
    "name": "ipython",
    "version": 3
   },
   "file_extension": ".py",
   "mimetype": "text/x-python",
   "name": "python",
   "nbconvert_exporter": "python",
   "pygments_lexer": "ipython3",
   "version": "3.12.3"
  }
 },
 "nbformat": 4,
 "nbformat_minor": 5
}
